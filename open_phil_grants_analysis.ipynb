{
 "cells": [
  {
   "cell_type": "code",
   "execution_count": 1,
   "id": "ca572ba1-8a02-4c34-a912-0368b766af4e",
   "metadata": {},
   "outputs": [],
   "source": [
    "import pandas as pd\n",
    "\n",
    "# Read grants file, parsing USD amounts and dates as appropriate.\n",
    "# Grants file was downloaded from https://www.openphilanthropy.org/grants/ on 2023-05-26.\n",
    "df = pd.read_csv(\n",
    "    \"OpenPhilGrants.csv\",\n",
    "    converters={\n",
    "        \"Amount\": lambda amount_str: int(amount_str[1:].replace(\",\", \"\")) if amount_str else 0\n",
    "    },\n",
    "    dtype={\n",
    "        \"Grant\": \"string\",\n",
    "        \"Organization Name\": \"category\",\n",
    "        \"Focus Area\": \"category\",\n",
    "    },\n",
    "    parse_dates=[\"Date\"],\n",
    "    date_format=\"%B %Y\",\n",
    ")\n",
    "\n",
    "# Rename columns to more Python-friendly values.\n",
    "df = df.rename(columns={\n",
    "    \"Grant\": \"grant\",\n",
    "    \"Organization Name\": \"org\",\n",
    "    \"Focus Area\": \"focus_area\",\n",
    "    \"Amount\": \"amount\",\n",
    "    \"Date\": \"date\",\n",
    "})\n",
    "\n",
    "# Add year column.\n",
    "df[\"year\"] = df.date.dt.year.fillna(0.0).astype(\"int\")\n",
    "\n",
    "# Begin at 2016, the first year Open Phil began making animal welfare grants, and end at 2022, the last complete year.\n",
    "df = df[(df.year >= 2016) & (df.year <= 2022)]"
   ]
  },
  {
   "cell_type": "code",
   "execution_count": 2,
   "id": "39f733a9-727e-4392-b705-f49d9d9b141a",
   "metadata": {},
   "outputs": [],
   "source": [
    "# Categories from https://www.openphilanthropy.org/grants/\n",
    "ANIMAL_WELFARE = {\n",
    "    \"Farm Animal Welfare\",\n",
    "    \"Farm Animal Welfare in Europe\",\n",
    "    \"Fish Welfare\",\n",
    "    \"Broiler Chicken Welfare\",\n",
    "    \"Cage-Free Reforms\",\n",
    "    \"Alternatives to Animal Products\",\n",
    "    \"Farm Animal Welfare in Asia\",\n",
    "}\n",
    "\n",
    "GLOBAL_HEALTH_AND_WELLBEING = {\n",
    "    \"Global Health & Wellbeing\",\n",
    "    \"Scientific Research\",\n",
    "    \"Other Scientific Research Areas\",\n",
    "    \"Transformative Basic Science\",\n",
    "    \"Scientific Innovation: Tools and Techniques\",\n",
    "    \"Science Supporting Biosecurity and Pandemic Preparedness\",\n",
    "    \"Human Health and Wellbeing\",\n",
    "    \"South Asian Air Quality\",\n",
    "    \"Global Health & Development\",\n",
    "    \"GiveWell-Recommended Charities\",\n",
    "    \"Learning, Experimentation, and Exploration\",\n",
    "    \"Science for Global Health\",\n",
    "    \"Other Global Health & Development\",\n",
    "    \"Global Aid Policy\",\n",
    "    \"Effective Altruism Community Growth (Global Health and Wellbeing)\",\n",
    "}\n",
    "\n",
    "OTHER_AREAS = {\n",
    "    \"Other Areas\",\n",
    "    \"Macroeconomic Stabilization Policy\",\n",
    "    \"Criminal Justice Reform\",\n",
    "    \"History of Philanthropy\",\n",
    "    \"Immigration Policy\",\n",
    "    \"Land Use Reform\",\n",
    "}\n",
    "\n",
    "# For the purpose of this analysis, we include \"other areas\" in neartermism, and we remove science supporting\n",
    "# biosecurity, because that's arguably longtermist. I'm not sure why Open Phil includes that under its Global Health\n",
    "# and Wellbeing umbrella.\n",
    "NEARTERMISM_EXCLUDING_ANIMAL_WELFARE = (GLOBAL_HEALTH_AND_WELLBEING | OTHER_AREAS) - {\"Science Supporting Biosecurity and Pandemic Preparedness\"}"
   ]
  },
  {
   "cell_type": "code",
   "execution_count": 3,
   "id": "66020375-8c00-4d26-9e5b-25b17d9e7cfa",
   "metadata": {},
   "outputs": [],
   "source": [
    "neartermism_excluding_animal_welfare = df[df.focus_area.isin(NEARTERMISM_EXCLUDING_ANIMAL_WELFARE)].groupby(\"year\").amount.sum()\n",
    "animal_welfare = df[df.focus_area.isin(ANIMAL_WELFARE)].groupby(\"year\").amount.sum()\n",
    "neartermism = neartermism_excluding_animal_welfare + animal_welfare\n",
    "animal_welfare_proportion = animal_welfare / neartermism"
   ]
  },
  {
   "cell_type": "code",
   "execution_count": 4,
   "id": "0d910715-a5c0-4d8d-968f-e128d4652cab",
   "metadata": {},
   "outputs": [
    {
     "name": "stdout",
     "output_type": "stream",
     "text": [
      "Amount granted to neartermist causes INCLUDING animal welfare:\n"
     ]
    },
    {
     "data": {
      "text/html": [
       "<style type=\"text/css\">\n",
       "</style>\n",
       "<table id=\"T_5eba9\">\n",
       "  <thead>\n",
       "    <tr>\n",
       "      <th class=\"blank level0\" >&nbsp;</th>\n",
       "      <th id=\"T_5eba9_level0_col0\" class=\"col_heading level0 col0\" >amount</th>\n",
       "    </tr>\n",
       "    <tr>\n",
       "      <th class=\"index_name level0\" >year</th>\n",
       "      <th class=\"blank col0\" >&nbsp;</th>\n",
       "    </tr>\n",
       "  </thead>\n",
       "  <tbody>\n",
       "    <tr>\n",
       "      <th id=\"T_5eba9_level0_row0\" class=\"row_heading level0 row0\" >2016</th>\n",
       "      <td id=\"T_5eba9_row0_col0\" class=\"data row0 col0\" >$115,267,639</td>\n",
       "    </tr>\n",
       "    <tr>\n",
       "      <th id=\"T_5eba9_level0_row1\" class=\"row_heading level0 row1\" >2017</th>\n",
       "      <td id=\"T_5eba9_row1_col0\" class=\"data row1 col0\" >$227,464,721</td>\n",
       "    </tr>\n",
       "    <tr>\n",
       "      <th id=\"T_5eba9_level0_row2\" class=\"row_heading level0 row2\" >2018</th>\n",
       "      <td id=\"T_5eba9_row2_col0\" class=\"data row2 col0\" >$152,617,517</td>\n",
       "    </tr>\n",
       "    <tr>\n",
       "      <th id=\"T_5eba9_level0_row3\" class=\"row_heading level0 row3\" >2019</th>\n",
       "      <td id=\"T_5eba9_row3_col0\" class=\"data row3 col0\" >$185,764,922</td>\n",
       "    </tr>\n",
       "    <tr>\n",
       "      <th id=\"T_5eba9_level0_row4\" class=\"row_heading level0 row4\" >2020</th>\n",
       "      <td id=\"T_5eba9_row4_col0\" class=\"data row4 col0\" >$211,165,126</td>\n",
       "    </tr>\n",
       "    <tr>\n",
       "      <th id=\"T_5eba9_level0_row5\" class=\"row_heading level0 row5\" >2021</th>\n",
       "      <td id=\"T_5eba9_row5_col0\" class=\"data row5 col0\" >$342,441,431</td>\n",
       "    </tr>\n",
       "    <tr>\n",
       "      <th id=\"T_5eba9_level0_row6\" class=\"row_heading level0 row6\" >2022</th>\n",
       "      <td id=\"T_5eba9_row6_col0\" class=\"data row6 col0\" >$384,041,075</td>\n",
       "    </tr>\n",
       "  </tbody>\n",
       "</table>\n"
      ],
      "text/plain": [
       "<pandas.io.formats.style.Styler at 0x7f0cd0e59f60>"
      ]
     },
     "execution_count": 4,
     "metadata": {},
     "output_type": "execute_result"
    }
   ],
   "source": [
    "print(\"Amount granted to neartermist causes INCLUDING animal welfare:\")\n",
    "neartermism.to_frame().style.format(dict(amount=\"${:,}\"))"
   ]
  },
  {
   "cell_type": "code",
   "execution_count": 5,
   "id": "0104e775-e701-43a9-8d75-c9a26023d1a7",
   "metadata": {},
   "outputs": [
    {
     "name": "stdout",
     "output_type": "stream",
     "text": [
      "Amount granted to neartermist causes EXCLUDING animal welfare:\n"
     ]
    },
    {
     "data": {
      "text/html": [
       "<style type=\"text/css\">\n",
       "</style>\n",
       "<table id=\"T_96a53\">\n",
       "  <thead>\n",
       "    <tr>\n",
       "      <th class=\"blank level0\" >&nbsp;</th>\n",
       "      <th id=\"T_96a53_level0_col0\" class=\"col_heading level0 col0\" >amount</th>\n",
       "    </tr>\n",
       "    <tr>\n",
       "      <th class=\"index_name level0\" >year</th>\n",
       "      <th class=\"blank col0\" >&nbsp;</th>\n",
       "    </tr>\n",
       "  </thead>\n",
       "  <tbody>\n",
       "    <tr>\n",
       "      <th id=\"T_96a53_level0_row0\" class=\"row_heading level0 row0\" >2016</th>\n",
       "      <td id=\"T_96a53_row0_col0\" class=\"data row0 col0\" >$100,831,369</td>\n",
       "    </tr>\n",
       "    <tr>\n",
       "      <th id=\"T_96a53_level0_row1\" class=\"row_heading level0 row1\" >2017</th>\n",
       "      <td id=\"T_96a53_row1_col0\" class=\"data row1 col0\" >$199,927,170</td>\n",
       "    </tr>\n",
       "    <tr>\n",
       "      <th id=\"T_96a53_level0_row2\" class=\"row_heading level0 row2\" >2018</th>\n",
       "      <td id=\"T_96a53_row2_col0\" class=\"data row2 col0\" >$124,640,028</td>\n",
       "    </tr>\n",
       "    <tr>\n",
       "      <th id=\"T_96a53_level0_row3\" class=\"row_heading level0 row3\" >2019</th>\n",
       "      <td id=\"T_96a53_row3_col0\" class=\"data row3 col0\" >$145,869,786</td>\n",
       "    </tr>\n",
       "    <tr>\n",
       "      <th id=\"T_96a53_level0_row4\" class=\"row_heading level0 row4\" >2020</th>\n",
       "      <td id=\"T_96a53_row4_col0\" class=\"data row4 col0\" >$185,755,868</td>\n",
       "    </tr>\n",
       "    <tr>\n",
       "      <th id=\"T_96a53_level0_row5\" class=\"row_heading level0 row5\" >2021</th>\n",
       "      <td id=\"T_96a53_row5_col0\" class=\"data row5 col0\" >$276,394,125</td>\n",
       "    </tr>\n",
       "    <tr>\n",
       "      <th id=\"T_96a53_level0_row6\" class=\"row_heading level0 row6\" >2022</th>\n",
       "      <td id=\"T_96a53_row6_col0\" class=\"data row6 col0\" >$300,916,433</td>\n",
       "    </tr>\n",
       "  </tbody>\n",
       "</table>\n"
      ],
      "text/plain": [
       "<pandas.io.formats.style.Styler at 0x7f0ccf463760>"
      ]
     },
     "execution_count": 5,
     "metadata": {},
     "output_type": "execute_result"
    }
   ],
   "source": [
    "print(\"Amount granted to neartermist causes EXCLUDING animal welfare:\")\n",
    "neartermism_excluding_animal_welfare.to_frame().style.format(dict(amount=\"${:,}\"))"
   ]
  },
  {
   "cell_type": "code",
   "execution_count": 6,
   "id": "51e30438-ef5a-47a4-8eab-32712263b617",
   "metadata": {},
   "outputs": [
    {
     "name": "stdout",
     "output_type": "stream",
     "text": [
      "Amount granted to animal welfare:\n"
     ]
    },
    {
     "data": {
      "text/html": [
       "<style type=\"text/css\">\n",
       "</style>\n",
       "<table id=\"T_65e8d\">\n",
       "  <thead>\n",
       "    <tr>\n",
       "      <th class=\"blank level0\" >&nbsp;</th>\n",
       "      <th id=\"T_65e8d_level0_col0\" class=\"col_heading level0 col0\" >amount</th>\n",
       "    </tr>\n",
       "    <tr>\n",
       "      <th class=\"index_name level0\" >year</th>\n",
       "      <th class=\"blank col0\" >&nbsp;</th>\n",
       "    </tr>\n",
       "  </thead>\n",
       "  <tbody>\n",
       "    <tr>\n",
       "      <th id=\"T_65e8d_level0_row0\" class=\"row_heading level0 row0\" >2016</th>\n",
       "      <td id=\"T_65e8d_row0_col0\" class=\"data row0 col0\" >$14,436,270</td>\n",
       "    </tr>\n",
       "    <tr>\n",
       "      <th id=\"T_65e8d_level0_row1\" class=\"row_heading level0 row1\" >2017</th>\n",
       "      <td id=\"T_65e8d_row1_col0\" class=\"data row1 col0\" >$27,537,551</td>\n",
       "    </tr>\n",
       "    <tr>\n",
       "      <th id=\"T_65e8d_level0_row2\" class=\"row_heading level0 row2\" >2018</th>\n",
       "      <td id=\"T_65e8d_row2_col0\" class=\"data row2 col0\" >$27,977,489</td>\n",
       "    </tr>\n",
       "    <tr>\n",
       "      <th id=\"T_65e8d_level0_row3\" class=\"row_heading level0 row3\" >2019</th>\n",
       "      <td id=\"T_65e8d_row3_col0\" class=\"data row3 col0\" >$39,895,136</td>\n",
       "    </tr>\n",
       "    <tr>\n",
       "      <th id=\"T_65e8d_level0_row4\" class=\"row_heading level0 row4\" >2020</th>\n",
       "      <td id=\"T_65e8d_row4_col0\" class=\"data row4 col0\" >$25,409,258</td>\n",
       "    </tr>\n",
       "    <tr>\n",
       "      <th id=\"T_65e8d_level0_row5\" class=\"row_heading level0 row5\" >2021</th>\n",
       "      <td id=\"T_65e8d_row5_col0\" class=\"data row5 col0\" >$66,047,306</td>\n",
       "    </tr>\n",
       "    <tr>\n",
       "      <th id=\"T_65e8d_level0_row6\" class=\"row_heading level0 row6\" >2022</th>\n",
       "      <td id=\"T_65e8d_row6_col0\" class=\"data row6 col0\" >$83,124,642</td>\n",
       "    </tr>\n",
       "  </tbody>\n",
       "</table>\n"
      ],
      "text/plain": [
       "<pandas.io.formats.style.Styler at 0x7f0ccf463700>"
      ]
     },
     "execution_count": 6,
     "metadata": {},
     "output_type": "execute_result"
    }
   ],
   "source": [
    "print(\"Amount granted to animal welfare:\")\n",
    "animal_welfare.to_frame().style.format(dict(amount=\"${:,}\"))"
   ]
  },
  {
   "cell_type": "code",
   "execution_count": 7,
   "id": "989f9b9d-4b6c-4b6c-a717-e3b57aede83c",
   "metadata": {},
   "outputs": [
    {
     "name": "stdout",
     "output_type": "stream",
     "text": [
      "Percentage of neartermist funding allocated to animal welfare:\n"
     ]
    },
    {
     "data": {
      "text/html": [
       "<style type=\"text/css\">\n",
       "</style>\n",
       "<table id=\"T_b766a\">\n",
       "  <thead>\n",
       "    <tr>\n",
       "      <th class=\"blank level0\" >&nbsp;</th>\n",
       "      <th id=\"T_b766a_level0_col0\" class=\"col_heading level0 col0\" >amount</th>\n",
       "    </tr>\n",
       "    <tr>\n",
       "      <th class=\"index_name level0\" >year</th>\n",
       "      <th class=\"blank col0\" >&nbsp;</th>\n",
       "    </tr>\n",
       "  </thead>\n",
       "  <tbody>\n",
       "    <tr>\n",
       "      <th id=\"T_b766a_level0_row0\" class=\"row_heading level0 row0\" >2016</th>\n",
       "      <td id=\"T_b766a_row0_col0\" class=\"data row0 col0\" >12.52%</td>\n",
       "    </tr>\n",
       "    <tr>\n",
       "      <th id=\"T_b766a_level0_row1\" class=\"row_heading level0 row1\" >2017</th>\n",
       "      <td id=\"T_b766a_row1_col0\" class=\"data row1 col0\" >12.11%</td>\n",
       "    </tr>\n",
       "    <tr>\n",
       "      <th id=\"T_b766a_level0_row2\" class=\"row_heading level0 row2\" >2018</th>\n",
       "      <td id=\"T_b766a_row2_col0\" class=\"data row2 col0\" >18.33%</td>\n",
       "    </tr>\n",
       "    <tr>\n",
       "      <th id=\"T_b766a_level0_row3\" class=\"row_heading level0 row3\" >2019</th>\n",
       "      <td id=\"T_b766a_row3_col0\" class=\"data row3 col0\" >21.48%</td>\n",
       "    </tr>\n",
       "    <tr>\n",
       "      <th id=\"T_b766a_level0_row4\" class=\"row_heading level0 row4\" >2020</th>\n",
       "      <td id=\"T_b766a_row4_col0\" class=\"data row4 col0\" >12.03%</td>\n",
       "    </tr>\n",
       "    <tr>\n",
       "      <th id=\"T_b766a_level0_row5\" class=\"row_heading level0 row5\" >2021</th>\n",
       "      <td id=\"T_b766a_row5_col0\" class=\"data row5 col0\" >19.29%</td>\n",
       "    </tr>\n",
       "    <tr>\n",
       "      <th id=\"T_b766a_level0_row6\" class=\"row_heading level0 row6\" >2022</th>\n",
       "      <td id=\"T_b766a_row6_col0\" class=\"data row6 col0\" >21.64%</td>\n",
       "    </tr>\n",
       "  </tbody>\n",
       "</table>\n"
      ],
      "text/plain": [
       "<pandas.io.formats.style.Styler at 0x7f0ccf4a0850>"
      ]
     },
     "execution_count": 7,
     "metadata": {},
     "output_type": "execute_result"
    }
   ],
   "source": [
    "print(\"Percentage of neartermist funding allocated to animal welfare:\")\n",
    "animal_welfare_proportion.to_frame().style.format(dict(amount=\"{:.2%}\"))"
   ]
  },
  {
   "cell_type": "code",
   "execution_count": 8,
   "id": "b7e6b91f-7819-437a-acb7-a6dfa8003db0",
   "metadata": {},
   "outputs": [
    {
     "name": "stdout",
     "output_type": "stream",
     "text": [
      "Mean percentage of neartermist funding allocated to animal welfare: 16.77%\n"
     ]
    }
   ],
   "source": [
    "mean_proportion = animal_welfare_proportion.mean()\n",
    "print(f\"Mean percentage of neartermist funding allocated to animal welfare: {mean_proportion:.2%}\")"
   ]
  },
  {
   "cell_type": "code",
   "execution_count": 9,
   "id": "8e5045b5-962b-43e0-82ba-ccd1de0f0f3c",
   "metadata": {},
   "outputs": [
    {
     "data": {
      "text/plain": [
       "['GiveWell-Recommended Charities',\n",
       " 'Potential Risks from Advanced AI',\n",
       " 'Effective Altruism Community Growth (Longtermism)',\n",
       " 'Biosecurity & Pandemic Preparedness',\n",
       " 'Farm Animal Welfare',\n",
       " 'Global Aid Policy',\n",
       " 'Human Health and Wellbeing',\n",
       " 'Alternatives to Animal Products',\n",
       " 'Longtermism',\n",
       " 'South Asian Air Quality',\n",
       " 'Broiler Chicken Welfare',\n",
       " 'Cage-Free Reforms',\n",
       " 'Global Health & Wellbeing',\n",
       " 'Effective Altruism Community Growth (Global Health and Wellbeing)',\n",
       " 'Science Supporting Biosecurity and Pandemic Preparedness',\n",
       " 'Global Health & Development',\n",
       " 'Land Use Reform',\n",
       " 'Scientific Research',\n",
       " 'Immigration Policy',\n",
       " 'Other Areas',\n",
       " 'Criminal Justice Reform',\n",
       " 'Transformative Basic Science',\n",
       " 'Macroeconomic Stabilization Policy',\n",
       " 'Other Scientific Research Areas',\n",
       " 'Scientific Innovation: Tools and Techniques',\n",
       " 'Science for Global Health',\n",
       " 'History of Philanthropy']"
      ]
     },
     "execution_count": 9,
     "metadata": {},
     "output_type": "execute_result"
    }
   ],
   "source": [
    "df.focus_area.unique().tolist()"
   ]
  },
  {
   "cell_type": "code",
   "execution_count": 10,
   "id": "5ac4337f-f64c-4d88-acfa-b447d99262f8",
   "metadata": {},
   "outputs": [],
   "source": [
    "LONGTERMISM_EXCLUDING_AI_X_RISK = {\n",
    "    \"Effective Altruism Community Growth (Longtermism)\",\n",
    "    \"Biosecurity & Pandemic Preparedness\",\n",
    "    \"Longtermism\",\n",
    "    \"Science Supporting Biosecurity and Pandemic Preparedness\",\n",
    "}\n",
    "AI_X_RISK = {\n",
    "    \"Potential Risks from Advanced AI\",\n",
    "}"
   ]
  },
  {
   "cell_type": "code",
   "execution_count": 11,
   "id": "59d1e959-9362-4a62-b373-bdde5c70ccd8",
   "metadata": {},
   "outputs": [],
   "source": [
    "longtermism_excluding_ai_x_risk = df[df.focus_area.isin(LONGTERMISM_EXCLUDING_AI_X_RISK)].groupby(\"year\").amount.sum()\n",
    "ai_x_risk = df[df.focus_area.isin(AI_X_RISK)].groupby(\"year\").amount.sum()\n",
    "longtermism = longtermism_excluding_ai_x_risk + ai_x_risk\n",
    "ai_x_risk_proportion = ai_x_risk / longtermism"
   ]
  },
  {
   "cell_type": "code",
   "execution_count": 12,
   "id": "763f4fbf-f49e-469a-a2d0-7a9dabcc88e4",
   "metadata": {},
   "outputs": [
    {
     "name": "stdout",
     "output_type": "stream",
     "text": [
      "Mean percentage of longtermist funding allocated to AI x-risk: 16.77%\n"
     ]
    },
    {
     "data": {
      "text/html": [
       "<style type=\"text/css\">\n",
       "</style>\n",
       "<table id=\"T_f73bf\">\n",
       "  <thead>\n",
       "    <tr>\n",
       "      <th class=\"blank level0\" >&nbsp;</th>\n",
       "      <th id=\"T_f73bf_level0_col0\" class=\"col_heading level0 col0\" >amount</th>\n",
       "    </tr>\n",
       "    <tr>\n",
       "      <th class=\"index_name level0\" >year</th>\n",
       "      <th class=\"blank col0\" >&nbsp;</th>\n",
       "    </tr>\n",
       "  </thead>\n",
       "  <tbody>\n",
       "    <tr>\n",
       "      <th id=\"T_f73bf_level0_row0\" class=\"row_heading level0 row0\" >2016</th>\n",
       "      <td id=\"T_f73bf_row0_col0\" class=\"data row0 col0\" >37.66%</td>\n",
       "    </tr>\n",
       "    <tr>\n",
       "      <th id=\"T_f73bf_level0_row1\" class=\"row_heading level0 row1\" >2017</th>\n",
       "      <td id=\"T_f73bf_row1_col0\" class=\"data row1 col0\" >50.76%</td>\n",
       "    </tr>\n",
       "    <tr>\n",
       "      <th id=\"T_f73bf_level0_row2\" class=\"row_heading level0 row2\" >2018</th>\n",
       "      <td id=\"T_f73bf_row2_col0\" class=\"data row2 col0\" >10.28%</td>\n",
       "    </tr>\n",
       "    <tr>\n",
       "      <th id=\"T_f73bf_level0_row3\" class=\"row_heading level0 row3\" >2019</th>\n",
       "      <td id=\"T_f73bf_row3_col0\" class=\"data row3 col0\" >55.99%</td>\n",
       "    </tr>\n",
       "    <tr>\n",
       "      <th id=\"T_f73bf_level0_row4\" class=\"row_heading level0 row4\" >2020</th>\n",
       "      <td id=\"T_f73bf_row4_col0\" class=\"data row4 col0\" >22.88%</td>\n",
       "    </tr>\n",
       "    <tr>\n",
       "      <th id=\"T_f73bf_level0_row5\" class=\"row_heading level0 row5\" >2021</th>\n",
       "      <td id=\"T_f73bf_row5_col0\" class=\"data row5 col0\" >53.07%</td>\n",
       "    </tr>\n",
       "    <tr>\n",
       "      <th id=\"T_f73bf_level0_row6\" class=\"row_heading level0 row6\" >2022</th>\n",
       "      <td id=\"T_f73bf_row6_col0\" class=\"data row6 col0\" >33.12%</td>\n",
       "    </tr>\n",
       "  </tbody>\n",
       "</table>\n"
      ],
      "text/plain": [
       "<pandas.io.formats.style.Styler at 0x7f0ccf4a1090>"
      ]
     },
     "execution_count": 12,
     "metadata": {},
     "output_type": "execute_result"
    }
   ],
   "source": [
    "print(f\"Mean percentage of longtermist funding allocated to AI x-risk: {mean_proportion:.2%}\")\n",
    "ai_x_risk_proportion.to_frame().style.format(dict(amount=\"{:.2%}\"))"
   ]
  },
  {
   "cell_type": "code",
   "execution_count": null,
   "id": "d0d44d8d-78b6-4ad0-be70-e3d3c69829a4",
   "metadata": {},
   "outputs": [],
   "source": []
  }
 ],
 "metadata": {
  "kernelspec": {
   "display_name": "Python 3 (ipykernel)",
   "language": "python",
   "name": "python3"
  },
  "language_info": {
   "codemirror_mode": {
    "name": "ipython",
    "version": 3
   },
   "file_extension": ".py",
   "mimetype": "text/x-python",
   "name": "python",
   "nbconvert_exporter": "python",
   "pygments_lexer": "ipython3",
   "version": "3.10.12"
  }
 },
 "nbformat": 4,
 "nbformat_minor": 5
}
